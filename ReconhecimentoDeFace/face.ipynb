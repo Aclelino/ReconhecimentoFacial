{
 "cells": [
  {
   "cell_type": "markdown",
   "metadata": {},
   "source": [
    "<h2>Reconhecimento Facial"
   ]
  },
  {
   "cell_type": "code",
   "execution_count": 22,
   "metadata": {},
   "outputs": [],
   "source": [
    "\n",
    "import face_recognition as fr \n"
   ]
  },
  {
   "cell_type": "code",
   "execution_count": 35,
   "metadata": {},
   "outputs": [
    {
     "name": "stdout",
     "output_type": "stream",
     "text": [
      " As face são diferente\n"
     ]
    }
   ],
   "source": [
    "# carrega imagem\n",
    "\n",
    "imagem = fr.load_image_file('File/obama.png')\n",
    "imagem2 = fr.load_image_file('File/joebiden.png')\n",
    "\n",
    "# codifica rosto\n",
    "\n",
    "imagemCodificado = fr.face_encodings(imagem)[0]\n",
    "imagem2Codificado = fr.face_encodings(imagem2)[0]\n",
    "\n",
    "# Comparação\n",
    "\n",
    "resultado = fr.compare_faces([imagemCodificado],imagem2Codificado)\n",
    "if resultado == True:\n",
    "    print(\" São as mesma face\")\n",
    "else :\n",
    "    print(\" As face são diferente\")"
   ]
  },
  {
   "cell_type": "code",
   "execution_count": null,
   "metadata": {},
   "outputs": [],
   "source": []
  }
 ],
 "metadata": {
  "kernelspec": {
   "display_name": "base",
   "language": "python",
   "name": "python3"
  },
  "language_info": {
   "codemirror_mode": {
    "name": "ipython",
    "version": 3
   },
   "file_extension": ".py",
   "mimetype": "text/x-python",
   "name": "python",
   "nbconvert_exporter": "python",
   "pygments_lexer": "ipython3",
   "version": "3.8.8"
  }
 },
 "nbformat": 4,
 "nbformat_minor": 2
}
