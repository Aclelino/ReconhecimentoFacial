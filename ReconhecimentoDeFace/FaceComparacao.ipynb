{
 "cells": [
  {
   "cell_type": "markdown",
   "metadata": {},
   "source": [
    "<h2>Reconhecimento Facial"
   ]
  },
  {
   "cell_type": "code",
   "execution_count": 20,
   "metadata": {},
   "outputs": [],
   "source": [
    "\n",
    "import face_recognition as fr \n"
   ]
  },
  {
   "cell_type": "code",
   "execution_count": 21,
   "metadata": {},
   "outputs": [
    {
     "name": "stdout",
     "output_type": "stream",
     "text": [
      "[False]\n"
     ]
    }
   ],
   "source": [
    "# carrega imagem\n",
    "\n",
    "imagem = fr.load_image_file('img/obama.png')\n",
    "outro = fr.load_image_file('img/joebiden.png')\n",
    "\n",
    "# codifica rosto\n",
    "\n",
    "acle = fr.face_encodings(imagem)[0]\n",
    "anonimo = fr.face_encodings(outro)[0]\n",
    "\n",
    "# Comparação\n",
    "resultado = fr.compare_faces([acle],anonimo)\n",
    "print(resultado)"
   ]
  },
  {
   "cell_type": "code",
   "execution_count": null,
   "metadata": {},
   "outputs": [],
   "source": []
  }
 ],
 "metadata": {
  "kernelspec": {
   "display_name": "base",
   "language": "python",
   "name": "python3"
  },
  "language_info": {
   "codemirror_mode": {
    "name": "ipython",
    "version": 3
   },
   "file_extension": ".py",
   "mimetype": "text/x-python",
   "name": "python",
   "nbconvert_exporter": "python",
   "pygments_lexer": "ipython3",
   "version": "3.8.8"
  }
 },
 "nbformat": 4,
 "nbformat_minor": 2
}
